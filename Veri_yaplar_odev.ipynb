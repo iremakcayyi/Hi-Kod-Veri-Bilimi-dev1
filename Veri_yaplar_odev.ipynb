{
 "cells": [
  {
   "cell_type": "markdown",
   "id": "032d81b2",
   "metadata": {},
   "source": [
    "# 1\n",
    "x = 3 ----> floata çevirelim. Çevirdikten sonra beri tipinide yazdıralım.\n",
    "\n",
    "y = 4.5 -----> integere çevirelim. Çevirdikten sonra beri tipinide yazdıralım.\n",
    "\n",
    "z = \"8\" -----> integera çevirelim. Çevirdikten sonra beri tipinide yazdıralım.\n",
    "\n",
    "a = \"12\" -----> floata çevirelim. Çevirdikten sonra beri tipinide yazdıralım.\n",
    "\n",
    "b = \"46.8\" ------> integera çevirelim. Çevirdikten sonra beri tipinide yazdıralım."
   ]
  },
  {
   "cell_type": "code",
   "execution_count": null,
   "id": "f1b735c0",
   "metadata": {},
   "outputs": [],
   "source": [
    "x=3\n",
    "type(x)\n",
    "float(x)\n",
    "int(float(x))\n",
    "y=4.5\n",
    "type(y)\n",
    "int(y)\n",
    "float(int(y))\n",
    "z=\"8\"\n",
    "type(z)\n",
    "int(z)\n",
    "str(int(z))\n",
    "a=\"12\"\n",
    "type(a)\n",
    "float(a)\n",
    "str(float(a))\n",
    "b= \"46.8\"\n",
    "float(b)\n",
    "int(float(b))\n",
    "float(int(float(b)))\n",
    "str(float(int(float(b))))\n",
    "\n"
   ]
  },
  {
   "cell_type": "markdown",
   "id": "95509718",
   "metadata": {},
   "source": [
    "# 2 \n",
    "İsimlerden oluşan üç değişkene yaş değerleri atanır. Belirlenen üç değişken birbiriyle karşılaştırma operatörleri ile karşılaştırılır. Bu karşılaştırmalara mantıksal operatörler de eklenir."
   ]
  },
  {
   "cell_type": "markdown",
   "id": "5046f2cd",
   "metadata": {},
   "source": [
    "İrem=98\n",
    "Melih=76\n",
    "Rabia=80\n",
    "Melih>İrem\n",
    "Melih<=İrem\n",
    "Melih==İrem\n",
    "Melih<İrem\n",
    "Rabia>İrem\n",
    "Rabia==İrem\n",
    "Rabia!=İrem\n",
    "Rabia<İrem\n",
    "Melih>Rabia\n",
    "Melih>=Rabia\n",
    "Melih=!Rabia\n",
    "Melih<Rabia\n",
    "\n",
    "\n",
    "\n",
    "\n"
   ]
  },
  {
   "cell_type": "markdown",
   "id": "a1a0eb92",
   "metadata": {},
   "source": [
    "# 3\n",
    "Kullanıcıdan iki değer girmesini istenir. Girilen değerlerin toplama, çıkarma, çarpma, bölme sonuçlarını yazdırılır."
   ]
  },
  {
   "cell_type": "code",
   "execution_count": null,
   "id": "c361e45a",
   "metadata": {},
   "outputs": [],
   "source": [
    "m=25\n",
    "s=500\n",
    "m*s\n",
    "m+s\n",
    "s/m\n",
    "s-m\n"
   ]
  },
  {
   "cell_type": "markdown",
   "id": "060b0bea",
   "metadata": {},
   "source": [
    "# 4\n",
    "Kullanıcıdan isim, yaş, şehir ve meslek bilgilerini istenir ve cevaplarını yazdırılır."
   ]
  },
  {
   "cell_type": "code",
   "execution_count": null,
   "id": "6f5dea59",
   "metadata": {},
   "outputs": [],
   "source": []
  },
  {
   "cell_type": "markdown",
   "id": "55e1a34e",
   "metadata": {},
   "source": [
    "# 5\n",
    "\"Hi-Kod Veri Bilimi Atölyesi\" ifadesini bir değişkene tanımlanır.\n",
    "\n",
    "\n",
    " 1. İfadedeki her bir kelimeyi (\"Hi-Kod\", \"Veri\", \"Bilimi\", \"Atölyesi\") değişken içinden seçilir. \n",
    " 2. İfadeyi hepsini büyük harf olacak hale çevrilir. (\"HI-KOD VERİ BİLİMİ ATÖLYESİ\") \n",
    " 3. İfadeyi hepsini büyük harf olacak hale çevrilir.(\"hi-kod veri bilimi atölyesi\") \n",
    "\n",
    "\"0123456789\" ifadesindeki yalnızca çift sayıları ve yalnızca tek sayıları seçilir. (\"02468\", \"13579\")"
   ]
  },
  {
   "cell_type": "code",
   "execution_count": null,
   "id": "0fc1bc40",
   "metadata": {},
   "outputs": [],
   "source": [
    "M= \"Hi-Kod Veri Bilimi Atölyesi\"\n",
    "M.split()\n",
    "M.upper()\n",
    "M.lower()\n",
    "sayılar= \"0123456789\"\n",
    "even_numbers= sayılar[::2]\n",
    "print(even_numbers)\n",
    "odd_numbers= sayılar[1::2]\n",
    "print(odd_numbers)\n",
    "\n"
   ]
  }
 ],
 "metadata": {
  "kernelspec": {
   "display_name": "Python 3 (ipykernel)",
   "language": "python",
   "name": "python3"
  },
  "language_info": {
   "codemirror_mode": {
    "name": "ipython",
    "version": 3
   },
   "file_extension": ".py",
   "mimetype": "text/x-python",
   "name": "python",
   "nbconvert_exporter": "python",
   "pygments_lexer": "ipython3",
   "version": "3.9.12"
  }
 },
 "nbformat": 4,
 "nbformat_minor": 5
}
